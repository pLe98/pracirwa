{
  "nbformat": 4,
  "nbformat_minor": 0,
  "metadata": {
    "colab": {
      "name": "IRWA_Practical_2.ipynb",
      "provenance": [],
      "authorship_tag": "ABX9TyPsh70yhxmJHpViwgEghhxu",
      "include_colab_link": true
    },
    "kernelspec": {
      "display_name": "Python 3",
      "name": "python3"
    },
    "language_info": {
      "name": "python"
    }
  },
  "cells": [
    {
      "cell_type": "markdown",
      "metadata": {
        "id": "view-in-github",
        "colab_type": "text"
      },
      "source": [
        "<a href=\"https://colab.research.google.com/github/pLe98/pracirwa/blob/main/IRWA_Practical_2.ipynb\" target=\"_parent\"><img src=\"https://colab.research.google.com/assets/colab-badge.svg\" alt=\"Open In Colab\"/></a>"
      ]
    },
    {
      "cell_type": "code",
      "metadata": {
        "colab": {
          "base_uri": "https://localhost:8080/"
        },
        "id": "KkocQ3e7IDbW",
        "outputId": "6b52f896-24d9-4574-b7d7-a22aaeef42da"
      },
      "source": [
        "from google.colab import drive\n",
        "drive.mount(\"/content/drive\")"
      ],
      "execution_count": 2,
      "outputs": [
        {
          "output_type": "stream",
          "text": [
            "Mounted at /content/drive\n"
          ],
          "name": "stdout"
        }
      ]
    },
    {
      "cell_type": "code",
      "metadata": {
        "colab": {
          "base_uri": "https://localhost:8080/"
        },
        "id": "v5MWM-iKI-ls",
        "outputId": "5b76e494-13b5-4954-b8d2-725b53e6cbf6"
      },
      "source": [
        "%cd /content/drive/MyDrive"
      ],
      "execution_count": 3,
      "outputs": [
        {
          "output_type": "stream",
          "text": [
            "/content/drive/MyDrive\n"
          ],
          "name": "stdout"
        }
      ]
    },
    {
      "cell_type": "code",
      "metadata": {
        "id": "7A51rZ6kJMX1"
      },
      "source": [
        "import os\n",
        "\n",
        "def getInverted():\n",
        "  directory = os.getcwd()+\"/IRWA_Practical\"\n",
        "  #print(directory)\n",
        "  files = os.listdir(directory)\n",
        "  #print(files)\n",
        "\n",
        "  mydict = dict()\n",
        "\n",
        "  for file in files:\n",
        "    with open(os.getcwd()+'/IRWA_Practical/'+file,'r') as f:\n",
        "      #print(f)\n",
        "      words = f.read().lower().split()\n",
        "      #print(words)\n",
        "\n",
        "      for word in words:\n",
        "        if word not in mydict:\n",
        "          mydict[word] = [file]\n",
        "        else:\n",
        "          mydict[word].append(file)\n",
        "  return(mydict)"
      ],
      "execution_count": 4,
      "outputs": []
    },
    {
      "cell_type": "code",
      "metadata": {
        "id": "hJUj5Inmc4Ak"
      },
      "source": [
        "def opAND(x, y):\n",
        "  return(set(x).intersection(y))\n"
      ],
      "execution_count": 5,
      "outputs": []
    },
    {
      "cell_type": "code",
      "metadata": {
        "id": "8QJAmSMgvQaj"
      },
      "source": [
        "def opOR(x,y):\n",
        "  return(set(x).union(y))"
      ],
      "execution_count": 6,
      "outputs": []
    },
    {
      "cell_type": "code",
      "metadata": {
        "id": "K_VnRI0xvbSq",
        "colab": {
          "base_uri": "https://localhost:8080/"
        },
        "outputId": "e027398b-03aa-4be6-9986-08e063c67634"
      },
      "source": [
        "def opNOT(x):\n",
        "  fList = os.listdir(os.getcwd()+\"/IRWA_Practical\")\n",
        "  #print(fList)\n",
        "  return set(fList).symmetric_difference(x)\n",
        "opNOT(['invertedDoc1.txt', 'invertedDoc2.txt', 'invertedDoc3.txt'])"
      ],
      "execution_count": 12,
      "outputs": [
        {
          "output_type": "execute_result",
          "data": {
            "text/plain": [
              "{'invertedDoc4.txt',\n",
              " 'positionaldoc_1.txt',\n",
              " 'positionaldoc_2.txt',\n",
              " 'positionaldoc_3.txt'}"
            ]
          },
          "metadata": {
            "tags": []
          },
          "execution_count": 12
        }
      ]
    },
    {
      "cell_type": "code",
      "metadata": {
        "colab": {
          "base_uri": "https://localhost:8080/"
        },
        "id": "lcPa86FHiByB",
        "outputId": "c4531392-ab7e-4921-e2b4-d695aaf83e81"
      },
      "source": [
        "dc1 = getInverted()\n",
        "\n",
        "for key in dc1:\n",
        "  if key == 'schizophrenia':\n",
        "    list1 = dc1[key]\n",
        "  if key == 'drug':\n",
        "    list2 = dc1[key]\n",
        "\n",
        "#print(list1)\n",
        "#print(list2)\n",
        "\n",
        "print(opAND(list1, list2))"
      ],
      "execution_count": 8,
      "outputs": [
        {
          "output_type": "stream",
          "text": [
            "{'invertedDoc2.txt', 'invertedDoc1.txt'}\n"
          ],
          "name": "stdout"
        }
      ]
    },
    {
      "cell_type": "code",
      "metadata": {
        "colab": {
          "base_uri": "https://localhost:8080/"
        },
        "id": "uTOE8SF3xZ1L",
        "outputId": "860d84ed-e457-478a-a960-f9007349e6f8"
      },
      "source": [
        "dc2 = getInverted()\n",
        "\n",
        "for key in dc2:\n",
        "  if key == 'for':\n",
        "    list3 = dc2[key]\n",
        "  if key == 'drug':\n",
        "    list4 = dc2[key]\n",
        "  if key == 'approach':\n",
        "    list5 = dc2[key]\n",
        "\n",
        "orl = opOR(list4, list5)\n",
        "notl = opNOT(orl)\n",
        "andl = opAND(notl, list3)\n",
        "print(andl)"
      ],
      "execution_count": 14,
      "outputs": [
        {
          "output_type": "stream",
          "text": [
            "{'positionaldoc_2.txt', 'positionaldoc_3.txt', 'positionaldoc_1.txt', 'invertedDoc4.txt'}\n"
          ],
          "name": "stdout"
        }
      ]
    },
    {
      "cell_type": "code",
      "metadata": {
        "colab": {
          "base_uri": "https://localhost:8080/"
        },
        "id": "9PHxHmNiOn3-",
        "outputId": "ece20f8c-be50-4d82-d84d-246769c80e64"
      },
      "source": [
        "import nltk\n",
        "nltk.download('stopwords')\n",
        "nltk.download('punkt')"
      ],
      "execution_count": 7,
      "outputs": [
        {
          "output_type": "stream",
          "text": [
            "[nltk_data] Downloading package stopwords to /root/nltk_data...\n",
            "[nltk_data]   Package stopwords is already up-to-date!\n",
            "[nltk_data] Downloading package punkt to /root/nltk_data...\n",
            "[nltk_data]   Unzipping tokenizers/punkt.zip.\n"
          ],
          "name": "stdout"
        },
        {
          "output_type": "execute_result",
          "data": {
            "text/plain": [
              "True"
            ]
          },
          "metadata": {
            "tags": []
          },
          "execution_count": 7
        }
      ]
    },
    {
      "cell_type": "code",
      "metadata": {
        "colab": {
          "base_uri": "https://localhost:8080/"
        },
        "id": "Ml1S6et8N9XX",
        "outputId": "29a9b57d-05ed-48f7-c9a1-9d51c9e75d54"
      },
      "source": [
        "import nltk\n",
        "from nltk.corpus import stopwords as sw\n",
        "from nltk.tokenize import word_tokenize as wt\n",
        "from nltk.stem import PorterStemmer \n",
        "\n",
        "stopword = sw.words('english')\n",
        "#print(stopword)\n",
        "\n",
        "quote = 'Please copy this code, switch to your application and paste it there'\n",
        "tokenized = wt(quote)\n",
        "#print(tokenized)\n",
        "\n",
        "noStopWords = []\n",
        "\n",
        "for item in tokenized:\n",
        "  if item not in stopword:\n",
        "    noStopWords.append(item)\n",
        "#print(noStopWords)\n",
        "\n",
        "stemmer = PorterStemmer()\n",
        "stemmed = []\n",
        "\n",
        "for item in noStopWords:\n",
        "  stemmed.append(stemmer.stem(item))\n",
        "\n",
        "print(stemmed)"
      ],
      "execution_count": 12,
      "outputs": [
        {
          "output_type": "stream",
          "text": [
            "['pleas', 'copi', 'code', ',', 'switch', 'applic', 'past']\n"
          ],
          "name": "stdout"
        }
      ]
    }
  ]
}