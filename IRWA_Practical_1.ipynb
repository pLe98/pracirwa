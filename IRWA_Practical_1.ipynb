{
  "nbformat": 4,
  "nbformat_minor": 0,
  "metadata": {
    "colab": {
      "name": "IRWA_Practical_1.ipynb",
      "provenance": [],
      "authorship_tag": "ABX9TyNNdy+3xA1oxcxyC2VLCpcT",
      "include_colab_link": true
    },
    "kernelspec": {
      "name": "python3",
      "display_name": "Python 3"
    },
    "language_info": {
      "name": "python"
    }
  },
  "cells": [
    {
      "cell_type": "markdown",
      "metadata": {
        "id": "view-in-github",
        "colab_type": "text"
      },
      "source": [
        "<a href=\"https://colab.research.google.com/github/pLe98/pracirwa/blob/main/IRWA_Practical_1.ipynb\" target=\"_parent\"><img src=\"https://colab.research.google.com/assets/colab-badge.svg\" alt=\"Open In Colab\"/></a>"
      ]
    },
    {
      "cell_type": "code",
      "metadata": {
        "colab": {
          "base_uri": "https://localhost:8080/"
        },
        "id": "85hwshnTRMOi",
        "outputId": "b67d044f-6d2a-454c-c046-6af121a43ad5"
      },
      "source": [
        "list1 = [\"M\", \"na\", \"i\", \"Ke\"] \n",
        "list2 = [\"y\", \"me\", \"s\", \"lly\"]\n",
        "\n",
        "li3 = [i+j for i ,j in zip(list1, list2)]\n",
        "print(li3)"
      ],
      "execution_count": 5,
      "outputs": [
        {
          "output_type": "stream",
          "text": [
            "['My', 'name', 'is', 'Kelly']\n"
          ],
          "name": "stdout"
        }
      ]
    },
    {
      "cell_type": "code",
      "metadata": {
        "colab": {
          "base_uri": "https://localhost:8080/"
        },
        "id": "abQAhpQxV-BQ",
        "outputId": "40c54f52-49f0-4fda-afb5-787763bf4f34"
      },
      "source": [
        "List1 = [1, 2, 3, 4, 5, 6, 7]\n",
        "res = [pow(item, 2) for item in List1 ]\n",
        "print(res)"
      ],
      "execution_count": 6,
      "outputs": [
        {
          "output_type": "stream",
          "text": [
            "[1, 4, 9, 16, 25, 36, 49]\n"
          ],
          "name": "stdout"
        }
      ]
    },
    {
      "cell_type": "code",
      "metadata": {
        "colab": {
          "base_uri": "https://localhost:8080/"
        },
        "id": "cvQZEf2rW1hE",
        "outputId": "76eb8648-520b-4c2c-9e2f-98d0113dec96"
      },
      "source": [
        "list1 = [10, 20, 30, 40]\n",
        "list2 = [100, 200, 300, 400]\n",
        "list2 = list2[::-1]\n",
        "\n",
        "for i,j in zip(list1, list2):\n",
        "  print(i , j)"
      ],
      "execution_count": 26,
      "outputs": [
        {
          "output_type": "stream",
          "text": [
            "10 400\n",
            "20 300\n",
            "30 200\n",
            "40 100\n"
          ],
          "name": "stdout"
        }
      ]
    },
    {
      "cell_type": "code",
      "metadata": {
        "colab": {
          "base_uri": "https://localhost:8080/"
        },
        "id": "sQt6T5E-qGi9",
        "outputId": "adec9462-b808-483a-9e18-4b2cb9c8e63d"
      },
      "source": [
        "list1 = [\"a\", \"b\", [\"c\", [\"d\", \"e\", [\"f\", \"g\"], \"k\"], \"l\"], \"m\", \"n\"]\n",
        "sublist = [\"h\", \"i\", \"j\"]\n",
        "\n",
        "list1[2][1][2].extend(sublist)\n",
        " \n",
        "print(list1)"
      ],
      "execution_count": 1,
      "outputs": [
        {
          "output_type": "stream",
          "text": [
            "['a', 'b', ['c', ['d', 'e', ['f', 'g', 'h', 'i', 'j'], 'k'], 'l'], 'm', 'n']\n"
          ],
          "name": "stdout"
        }
      ]
    },
    {
      "cell_type": "code",
      "metadata": {
        "colab": {
          "base_uri": "https://localhost:8080/"
        },
        "id": "jzHLO-tqu_3u",
        "outputId": "dac2d437-fe7b-47c4-e6ca-0cb0c46c754a"
      },
      "source": [
        "list1 = [5, 20, 15, 20, 25, 50, 20]\n",
        "li = [item for item in list1 if item != 20]\n",
        "print(li)"
      ],
      "execution_count": 3,
      "outputs": [
        {
          "output_type": "stream",
          "text": [
            "[5, 15, 25, 50]\n"
          ],
          "name": "stdout"
        }
      ]
    },
    {
      "cell_type": "code",
      "metadata": {
        "colab": {
          "base_uri": "https://localhost:8080/"
        },
        "id": "r_FHIKEhvJ3w",
        "outputId": "3a25fae0-b26c-415a-dbde-7d5d5466eae4"
      },
      "source": [
        "keys = ['Ten', 'Twenty', 'Thirty']\n",
        "values = [10, 20, 30]\n",
        "\n",
        "res = {keys[i]: values[i] for i in range(len(keys))}\n",
        "print(res)"
      ],
      "execution_count": 6,
      "outputs": [
        {
          "output_type": "stream",
          "text": [
            "{'Ten': 10, 'Twenty': 20, 'Thirty': 30}\n"
          ],
          "name": "stdout"
        }
      ]
    },
    {
      "cell_type": "code",
      "metadata": {
        "colab": {
          "base_uri": "https://localhost:8080/"
        },
        "id": "5xfjSCOBwDzf",
        "outputId": "61b8d243-3e3e-4a0b-9cb6-5bb8c2c9ddce"
      },
      "source": [
        "dict1 = {'Ten': 10, 'Twenty': 20, 'Thirty': 30}\n",
        "dict2 = {'Thirty': 30, 'Fourty': 40, 'Fifty': 50}\n",
        "\n",
        "print({**dict1, **dict2})"
      ],
      "execution_count": 10,
      "outputs": [
        {
          "output_type": "stream",
          "text": [
            "{'Ten': 10, 'Twenty': 20, 'Thirty': 30, 'Fourty': 40, 'Fifty': 50}\n"
          ],
          "name": "stdout"
        }
      ]
    },
    {
      "cell_type": "code",
      "metadata": {
        "colab": {
          "base_uri": "https://localhost:8080/"
        },
        "id": "eUtR0CyBw6M_",
        "outputId": "0357b266-9310-4eb7-f699-80b8374db7cf"
      },
      "source": [
        "sampleDict = {\n",
        " \"name\": \"Kelly\",\n",
        " \"age\":25,\n",
        " \"salary\": 8000,\n",
        " \"city\": \"New york\"\n",
        "}\n",
        "sampleDict['location'] = sampleDict.pop('city')\n",
        "print(sampleDict)"
      ],
      "execution_count": 13,
      "outputs": [
        {
          "output_type": "stream",
          "text": [
            "{'name': 'Kelly', 'age': 25, 'salary': 8000, 'location': 'New york'}\n"
          ],
          "name": "stdout"
        }
      ]
    },
    {
      "cell_type": "code",
      "metadata": {
        "colab": {
          "base_uri": "https://localhost:8080/"
        },
        "id": "rKYdzo_hxonj",
        "outputId": "20a02145-2786-40b8-8926-97807161d9c6"
      },
      "source": [
        "sampleDict = {\n",
        " \"name\": \"Kelly\",\n",
        " \"age\":25,\n",
        " \"salary\": 8000,\n",
        " \"city\": \"New york\"\n",
        "\n",
        "}\n",
        "keysToRemove = [\"name\", \"salary\"]\n",
        "\n",
        "for i in keysToRemove:\n",
        "  sampleDict.pop(i)\n",
        "\n",
        "print(sampleDict)"
      ],
      "execution_count": 14,
      "outputs": [
        {
          "output_type": "stream",
          "text": [
            "{'age': 25, 'city': 'New york'}\n"
          ],
          "name": "stdout"
        }
      ]
    },
    {
      "cell_type": "code",
      "metadata": {
        "colab": {
          "base_uri": "https://localhost:8080/"
        },
        "id": "MJCgvcEIyKi8",
        "outputId": "8ea0e9d4-9033-45e0-d665-b03234fe8650"
      },
      "source": [
        "sampleDict = {\n",
        " \"name\": \"Kelly\",\n",
        " \"age\":25,\n",
        " \"salary\": 8000,\n",
        " \"city\": \"New york\"\n",
        "\n",
        "}\n",
        "keys = [\"name\", \"salary\"]\n",
        "\n",
        "dict = {i:sampleDict[i] for i in keys}\n",
        "\n",
        "print(dict)"
      ],
      "execution_count": 17,
      "outputs": [
        {
          "output_type": "stream",
          "text": [
            "{'name': 'Kelly', 'salary': 8000}\n"
          ],
          "name": "stdout"
        }
      ]
    },
    {
      "cell_type": "code",
      "metadata": {
        "colab": {
          "base_uri": "https://localhost:8080/"
        },
        "id": "VrM2YnQQzGam",
        "outputId": "a6fb867d-6e05-4683-cced-169faf39897b"
      },
      "source": [
        "list1 = [12, 15, 32, 42, 55, 75, 122, 132, 150, 180, 200]\n",
        "li = []\n",
        "for i in list1:\n",
        "  if i%5 ==0:\n",
        "    li.append(i)\n",
        "  if i == 150:\n",
        "    break\n",
        "print(li)"
      ],
      "execution_count": 20,
      "outputs": [
        {
          "output_type": "stream",
          "text": [
            "[15, 55, 75, 150]\n"
          ],
          "name": "stdout"
        }
      ]
    },
    {
      "cell_type": "code",
      "metadata": {
        "colab": {
          "base_uri": "https://localhost:8080/"
        },
        "id": "DFK1I5vFz5Kj",
        "outputId": "609bee21-a5d7-466c-8dd7-7752423c6173"
      },
      "source": [
        "print([i for i in range(4,30) if i%2==0])"
      ],
      "execution_count": 21,
      "outputs": [
        {
          "output_type": "stream",
          "text": [
            "[4, 6, 8, 10, 12, 14, 16, 18, 20, 22, 24, 26, 28]\n"
          ],
          "name": "stdout"
        }
      ]
    },
    {
      "cell_type": "code",
      "metadata": {
        "colab": {
          "base_uri": "https://localhost:8080/"
        },
        "id": "25YrXuFF0Gvr",
        "outputId": "8dabfe52-815c-490f-ff80-ef198c867e96"
      },
      "source": [
        "input_str = \"P@#yn26at^&i5ve\"\n",
        "\n",
        "print('lower - ' ,sum(1 for c in input_str if c.islower()))\n",
        "print('upper - ' ,sum(1 for c in input_str if c.isupper()))\n",
        "print('numeric - ' ,sum(1 for c in input_str if c.isnumeric()))\n",
        "print('symbsymbol - ' ,sum(1 for c in input_str if c.isalpha()))"
      ],
      "execution_count": 25,
      "outputs": [
        {
          "output_type": "stream",
          "text": [
            "lower -  7\n",
            "upper -  1\n",
            "numeric -  3\n",
            "symbsymbol -  8\n"
          ],
          "name": "stdout"
        }
      ]
    },
    {
      "cell_type": "code",
      "metadata": {
        "colab": {
          "base_uri": "https://localhost:8080/"
        },
        "id": "DJPDFADp1Q10",
        "outputId": "aafd2023-01c6-4cdc-f577-5732f556639f"
      },
      "source": [
        "s = 'pynativepynvepynative'\n",
        "li2 = set([i for i in 'pynativepynvepynative'])\n",
        "#print(li2)\n",
        "\n",
        "dic = {i:s.count(i) for i in s}\n",
        "print(dic)"
      ],
      "execution_count": 43,
      "outputs": [
        {
          "output_type": "stream",
          "text": [
            "{'p', 'i', 'y', 't', 'v', 'e', 'n', 'a'}\n",
            "{'p': 3, 'y': 3, 'n': 3, 'a': 2, 't': 2, 'i': 2, 'v': 3, 'e': 3}\n"
          ],
          "name": "stdout"
        }
      ]
    },
    {
      "cell_type": "code",
      "metadata": {
        "colab": {
          "base_uri": "https://localhost:8080/"
        },
        "id": "EnG_E3Tw5LMm",
        "outputId": "8899966b-8ad3-45fe-d338-d51395059b1e"
      },
      "source": [
        "import random as rd\n",
        "\n",
        "for i in range(6):\n",
        "  rd.seed(251)\n",
        "  print(rd.randrange(1,6))"
      ],
      "execution_count": 47,
      "outputs": [
        {
          "output_type": "stream",
          "text": [
            "4\n",
            "4\n",
            "4\n",
            "4\n",
            "4\n",
            "4\n"
          ],
          "name": "stdout"
        }
      ]
    }
  ]
}